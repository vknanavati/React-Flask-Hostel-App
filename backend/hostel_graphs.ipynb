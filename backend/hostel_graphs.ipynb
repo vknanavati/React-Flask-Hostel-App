{
 "cells": [
  {
   "cell_type": "code",
   "execution_count": 1,
   "metadata": {
    "execution": {
     "iopub.execute_input": "2024-08-20T18:15:27.180148Z",
     "iopub.status.busy": "2024-08-20T18:15:27.179749Z",
     "iopub.status.idle": "2024-08-20T18:15:30.188144Z",
     "shell.execute_reply": "2024-08-20T18:15:30.187675Z"
    }
   },
   "outputs": [
    {
     "data": {
      "text/html": [
       "<div>\n",
       "<style scoped>\n",
       "    .dataframe tbody tr th:only-of-type {\n",
       "        vertical-align: middle;\n",
       "    }\n",
       "\n",
       "    .dataframe tbody tr th {\n",
       "        vertical-align: top;\n",
       "    }\n",
       "\n",
       "    .dataframe thead th {\n",
       "        text-align: right;\n",
       "    }\n",
       "</style>\n",
       "<table border=\"1\" class=\"dataframe\">\n",
       "  <thead>\n",
       "    <tr style=\"text-align: right;\">\n",
       "      <th></th>\n",
       "      <th>HI Calgary City Centre</th>\n",
       "      <th>Wicked Hostels - Calgary</th>\n",
       "    </tr>\n",
       "  </thead>\n",
       "  <tbody>\n",
       "    <tr>\n",
       "      <th>0</th>\n",
       "      <td>9.3</td>\n",
       "      <td>9.7</td>\n",
       "    </tr>\n",
       "    <tr>\n",
       "      <th>1</th>\n",
       "      <td>9.1</td>\n",
       "      <td>9.1</td>\n",
       "    </tr>\n",
       "    <tr>\n",
       "      <th>2</th>\n",
       "      <td>9.4</td>\n",
       "      <td>9.4</td>\n",
       "    </tr>\n",
       "    <tr>\n",
       "      <th>3</th>\n",
       "      <td>8.4</td>\n",
       "      <td>9.1</td>\n",
       "    </tr>\n",
       "    <tr>\n",
       "      <th>4</th>\n",
       "      <td>9.3</td>\n",
       "      <td>8.3</td>\n",
       "    </tr>\n",
       "    <tr>\n",
       "      <th>5</th>\n",
       "      <td>8.7</td>\n",
       "      <td>8.5</td>\n",
       "    </tr>\n",
       "    <tr>\n",
       "      <th>6</th>\n",
       "      <td>8.7</td>\n",
       "      <td>8.6</td>\n",
       "    </tr>\n",
       "  </tbody>\n",
       "</table>\n",
       "</div>"
      ],
      "text/plain": [
       "   HI Calgary City Centre  Wicked Hostels - Calgary\n",
       "0                     9.3                       9.7\n",
       "1                     9.1                       9.1\n",
       "2                     9.4                       9.4\n",
       "3                     8.4                       9.1\n",
       "4                     9.3                       8.3\n",
       "5                     8.7                       8.5\n",
       "6                     8.7                       8.6"
      ]
     },
     "execution_count": 1,
     "metadata": {},
     "output_type": "execute_result"
    }
   ],
   "source": [
    "import pandas as pd\n",
    "import matplotlib.pyplot as plt\n",
    "import seaborn as sns\n",
    "\n",
    "pd.set_option('display.max_rows', None)\n",
    "df = pd.read_csv(\"Hostel_City_Ratings.csv\", index_col=[0])\n",
    "df.head()\n",
    "df_copy = df.copy()\n",
    "\n",
    "df_copy"
   ]
  },
  {
   "cell_type": "code",
   "execution_count": 2,
   "metadata": {
    "execution": {
     "iopub.execute_input": "2024-08-20T18:15:30.233108Z",
     "iopub.status.busy": "2024-08-20T18:15:30.232746Z",
     "iopub.status.idle": "2024-08-20T18:15:30.236454Z",
     "shell.execute_reply": "2024-08-20T18:15:30.235939Z"
    }
   },
   "outputs": [],
   "source": [
    "df_test = df_copy.set_axis(['Security', 'Location', 'Staff', 'Atmosphere', 'Cleanliness', 'Value', 'Facilities'], axis=0, copy=True)"
   ]
  },
  {
   "cell_type": "code",
   "execution_count": 3,
   "metadata": {
    "execution": {
     "iopub.execute_input": "2024-08-20T18:15:30.239112Z",
     "iopub.status.busy": "2024-08-20T18:15:30.238992Z",
     "iopub.status.idle": "2024-08-20T18:15:30.248573Z",
     "shell.execute_reply": "2024-08-20T18:15:30.248131Z"
    }
   },
   "outputs": [
    {
     "data": {
      "text/html": [
       "<div>\n",
       "<style scoped>\n",
       "    .dataframe tbody tr th:only-of-type {\n",
       "        vertical-align: middle;\n",
       "    }\n",
       "\n",
       "    .dataframe tbody tr th {\n",
       "        vertical-align: top;\n",
       "    }\n",
       "\n",
       "    .dataframe thead th {\n",
       "        text-align: right;\n",
       "    }\n",
       "</style>\n",
       "<table border=\"1\" class=\"dataframe\">\n",
       "  <thead>\n",
       "    <tr style=\"text-align: right;\">\n",
       "      <th></th>\n",
       "      <th>HI Calgary City Centre</th>\n",
       "      <th>Wicked Hostels - Calgary</th>\n",
       "    </tr>\n",
       "  </thead>\n",
       "  <tbody>\n",
       "    <tr>\n",
       "      <th>Security</th>\n",
       "      <td>9.300000</td>\n",
       "      <td>9.700000</td>\n",
       "    </tr>\n",
       "    <tr>\n",
       "      <th>Location</th>\n",
       "      <td>9.100000</td>\n",
       "      <td>9.100000</td>\n",
       "    </tr>\n",
       "    <tr>\n",
       "      <th>Staff</th>\n",
       "      <td>9.400000</td>\n",
       "      <td>9.400000</td>\n",
       "    </tr>\n",
       "    <tr>\n",
       "      <th>Atmosphere</th>\n",
       "      <td>8.400000</td>\n",
       "      <td>9.100000</td>\n",
       "    </tr>\n",
       "    <tr>\n",
       "      <th>Cleanliness</th>\n",
       "      <td>9.300000</td>\n",
       "      <td>8.300000</td>\n",
       "    </tr>\n",
       "    <tr>\n",
       "      <th>Value</th>\n",
       "      <td>8.700000</td>\n",
       "      <td>8.500000</td>\n",
       "    </tr>\n",
       "    <tr>\n",
       "      <th>Facilities</th>\n",
       "      <td>8.700000</td>\n",
       "      <td>8.600000</td>\n",
       "    </tr>\n",
       "    <tr>\n",
       "      <th>Average</th>\n",
       "      <td>8.985714</td>\n",
       "      <td>8.957143</td>\n",
       "    </tr>\n",
       "  </tbody>\n",
       "</table>\n",
       "</div>"
      ],
      "text/plain": [
       "             HI Calgary City Centre  Wicked Hostels - Calgary\n",
       "Security                   9.300000                  9.700000\n",
       "Location                   9.100000                  9.100000\n",
       "Staff                      9.400000                  9.400000\n",
       "Atmosphere                 8.400000                  9.100000\n",
       "Cleanliness                9.300000                  8.300000\n",
       "Value                      8.700000                  8.500000\n",
       "Facilities                 8.700000                  8.600000\n",
       "Average                    8.985714                  8.957143"
      ]
     },
     "execution_count": 3,
     "metadata": {},
     "output_type": "execute_result"
    }
   ],
   "source": [
    "df_test.loc['Average']= df.mean()\n",
    "df_test"
   ]
  },
  {
   "cell_type": "code",
   "execution_count": 4,
   "metadata": {
    "execution": {
     "iopub.execute_input": "2024-08-20T18:15:30.251142Z",
     "iopub.status.busy": "2024-08-20T18:15:30.250985Z",
     "iopub.status.idle": "2024-08-20T18:15:30.261479Z",
     "shell.execute_reply": "2024-08-20T18:15:30.261060Z"
    }
   },
   "outputs": [
    {
     "data": {
      "text/html": [
       "<div>\n",
       "<style scoped>\n",
       "    .dataframe tbody tr th:only-of-type {\n",
       "        vertical-align: middle;\n",
       "    }\n",
       "\n",
       "    .dataframe tbody tr th {\n",
       "        vertical-align: top;\n",
       "    }\n",
       "\n",
       "    .dataframe thead th {\n",
       "        text-align: right;\n",
       "    }\n",
       "</style>\n",
       "<table border=\"1\" class=\"dataframe\">\n",
       "  <thead>\n",
       "    <tr style=\"text-align: right;\">\n",
       "      <th></th>\n",
       "      <th>Name</th>\n",
       "      <th>Security</th>\n",
       "      <th>Location</th>\n",
       "      <th>Staff</th>\n",
       "      <th>Atmosphere</th>\n",
       "      <th>Cleanliness</th>\n",
       "      <th>Value</th>\n",
       "      <th>Facilities</th>\n",
       "      <th>Average</th>\n",
       "    </tr>\n",
       "  </thead>\n",
       "  <tbody>\n",
       "    <tr>\n",
       "      <th>0</th>\n",
       "      <td>HI Calgary City Centre</td>\n",
       "      <td>9.3</td>\n",
       "      <td>9.1</td>\n",
       "      <td>9.4</td>\n",
       "      <td>8.4</td>\n",
       "      <td>9.3</td>\n",
       "      <td>8.7</td>\n",
       "      <td>8.7</td>\n",
       "      <td>8.985714</td>\n",
       "    </tr>\n",
       "    <tr>\n",
       "      <th>1</th>\n",
       "      <td>Wicked Hostels - Calgary</td>\n",
       "      <td>9.7</td>\n",
       "      <td>9.1</td>\n",
       "      <td>9.4</td>\n",
       "      <td>9.1</td>\n",
       "      <td>8.3</td>\n",
       "      <td>8.5</td>\n",
       "      <td>8.6</td>\n",
       "      <td>8.957143</td>\n",
       "    </tr>\n",
       "  </tbody>\n",
       "</table>\n",
       "</div>"
      ],
      "text/plain": [
       "                       Name  Security  Location  Staff  Atmosphere  \\\n",
       "0    HI Calgary City Centre       9.3       9.1    9.4         8.4   \n",
       "1  Wicked Hostels - Calgary       9.7       9.1    9.4         9.1   \n",
       "\n",
       "   Cleanliness  Value  Facilities   Average  \n",
       "0          9.3    8.7         8.7  8.985714  \n",
       "1          8.3    8.5         8.6  8.957143  "
      ]
     },
     "execution_count": 4,
     "metadata": {},
     "output_type": "execute_result"
    }
   ],
   "source": [
    "df_test = df_test.T.reset_index()\n",
    "df_test = df_test.set_axis(['Name', 'Security', 'Location', 'Staff', 'Atmosphere', 'Cleanliness', 'Value', 'Facilities', 'Average'], axis=1, copy=True)\n",
    "df_test"
   ]
  },
  {
   "cell_type": "code",
   "execution_count": 5,
   "metadata": {
    "execution": {
     "iopub.execute_input": "2024-08-20T18:15:30.264175Z",
     "iopub.status.busy": "2024-08-20T18:15:30.264013Z",
     "iopub.status.idle": "2024-08-20T18:15:30.272401Z",
     "shell.execute_reply": "2024-08-20T18:15:30.271932Z"
    }
   },
   "outputs": [
    {
     "data": {
      "text/html": [
       "<div>\n",
       "<style scoped>\n",
       "    .dataframe tbody tr th:only-of-type {\n",
       "        vertical-align: middle;\n",
       "    }\n",
       "\n",
       "    .dataframe tbody tr th {\n",
       "        vertical-align: top;\n",
       "    }\n",
       "\n",
       "    .dataframe thead th {\n",
       "        text-align: right;\n",
       "    }\n",
       "</style>\n",
       "<table border=\"1\" class=\"dataframe\">\n",
       "  <thead>\n",
       "    <tr style=\"text-align: right;\">\n",
       "      <th></th>\n",
       "      <th>Name</th>\n",
       "      <th>Average</th>\n",
       "    </tr>\n",
       "  </thead>\n",
       "  <tbody>\n",
       "    <tr>\n",
       "      <th>0</th>\n",
       "      <td>HI Calgary City Centre</td>\n",
       "      <td>8.985714</td>\n",
       "    </tr>\n",
       "    <tr>\n",
       "      <th>1</th>\n",
       "      <td>Wicked Hostels - Calgary</td>\n",
       "      <td>8.957143</td>\n",
       "    </tr>\n",
       "  </tbody>\n",
       "</table>\n",
       "</div>"
      ],
      "text/plain": [
       "                       Name   Average\n",
       "0    HI Calgary City Centre  8.985714\n",
       "1  Wicked Hostels - Calgary  8.957143"
      ]
     },
     "execution_count": 5,
     "metadata": {},
     "output_type": "execute_result"
    }
   ],
   "source": [
    "avg_graph = df_test.iloc[:, [0,8]].head(46)\n",
    "avg_graph = avg_graph.sort_values('Average', ascending=False)\n",
    "avg_graph"
   ]
  },
  {
   "cell_type": "code",
   "execution_count": 6,
   "metadata": {
    "execution": {
     "iopub.execute_input": "2024-08-20T18:15:30.275016Z",
     "iopub.status.busy": "2024-08-20T18:15:30.274857Z",
     "iopub.status.idle": "2024-08-20T18:15:30.644086Z",
     "shell.execute_reply": "2024-08-20T18:15:30.643586Z"
    }
   },
   "outputs": [
    {
     "data": {
      "image/png": "[encoded data removed]",
      "text/plain": [
       "<Figure size 1000x600 with 1 Axes>"
      ]
     },
     "metadata": {},
     "output_type": "display_data"
    }
   ],
   "source": [
    "top_ten = avg_graph.sort_values(by= 'Average', ascending=False)[:10]\n",
    "fig, ax = plt.subplots(figsize=(10,6))\n",
    "ax.set_xlim(0,10)\n",
    "ax.set_xticks(range(0,11))\n",
    "sns.barplot(y=top_ten.Name, x=top_ten.Average)\n",
    "\n",
    "plt.xlabel('Average Rating')\n",
    "plt.ylabel('Hostel Name')\n",
    "plt.title('Top Hostels')\n",
    "plt.savefig('static/images/graph1.png', bbox_inches='tight')\n",
    "plt.show()\n",
    "plt.close()\n"
   ]
  }
 ],
 "metadata": {
  "kernelspec": {
   "display_name": "snowflakes",
   "language": "python",
   "name": "python3"
  },
  "language_info": {
   "codemirror_mode": {
    "name": "ipython",
    "version": 3
   },
   "file_extension": ".py",
   "mimetype": "text/x-python",
   "name": "python",
   "nbconvert_exporter": "python",
   "pygments_lexer": "ipython3",
   "version": "3.10.6"
  }
 },
 "nbformat": 4,
 "nbformat_minor": 2
}
